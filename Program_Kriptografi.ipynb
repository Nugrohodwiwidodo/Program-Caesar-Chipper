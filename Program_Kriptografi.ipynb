{
  "nbformat": 4,
  "nbformat_minor": 0,
  "metadata": {
    "colab": {
      "name": "Program Kriptografi",
      "provenance": [],
      "collapsed_sections": []
    },
    "kernelspec": {
      "name": "python3",
      "display_name": "Python 3"
    },
    "language_info": {
      "name": "python"
    }
  },
  "cells": [
    {
      "cell_type": "code",
      "source": [
        "#Program Kriptografi Caesar Chipper"
      ],
      "metadata": {
        "id": "I8vY9u4s5fxa"
      },
      "execution_count": null,
      "outputs": []
    },
    {
      "cell_type": "markdown",
      "source": [
        "Caesar chipper adalah algoritma yang mengubah kalimat yang memiliki fungsi menyandikan (enksripsi) dan mengembalikan ke bentuk semula (deskripsi).\n",
        "Enkripsi dilakukan dengan menggeser ke kanan atau menjumlahkan ordinal aplhabet dengan konstanta tertentu, sedangkan deskripsi melakukan sebaliknya. Pergeseran menerapkan konsep rotasi, akan kembali ke huruf awal jika pergeseran ke kanan lebih dari \"z\" atau kembali ke huruf akhir (z) jika ke kiri lebih dari \"a\". Setiap huruf bisa diubah menjadi code point menggunakan tabel ASCII code."
      ],
      "metadata": {
        "id": "SmiDxo5h5kLf"
      }
    },
    {
      "cell_type": "code",
      "source": [
        "#Caesar Chipper 1"
      ],
      "metadata": {
        "id": "kgCiQllI6lBD"
      },
      "execution_count": null,
      "outputs": []
    },
    {
      "cell_type": "markdown",
      "source": [
        "Menggeser huruf konsonan sebanyak 5 ke kanan, dan huruf vokal sebanyak 3 ke kiri. Menghilangkan spasi dari hasil enkripsi dan menambahkan kembali spasi pada hasil deskripsi. Error akan ditampilkan jika ada inputan selain alphabet dan spasi."
      ],
      "metadata": {
        "id": "nWRNCQ3o6nKa"
      }
    },
    {
      "cell_type": "code",
      "metadata": {
        "id": "N7vVy0sPJUlW"
      },
      "source": [
        "#Proses Enkripsi\n",
        "def enkripsi1(pesan): #Membuat fungsi enkripsi dengan menggeser huruf konsonan sebanyak 5 ke kanan, huruf vokal sebanyak 3 ke kiri, dengan posisi spasi yang sama\n",
        "  global pesan1\n",
        "  pesan1 = ''\n",
        "  for k in pesan:  \n",
        "    if k == ' ': #jika terdapat spasi pada pesan awal, akan ditambahkan spasi pada enkripsinya\n",
        "      pesan1 += ' '\n",
        "    elif k in vocal: #proses enkripsi untuk huruf vokal\n",
        "      key = 3 #untuk huruf vokal akan digeser kekiri sebanyak 3\n",
        "      if k.islower() == True: \n",
        "        pesan1 += chr(((ord(k) - 97 - key)) % 26 + 97) #ASCII code untuk huruf kecil dimulai dari huruf a dengan codenya 97, dengan z codenya 122\n",
        "      else:\n",
        "        pesan1 += chr(((ord(k) - 65 - key)) % 26 + 65) #ASCII code untuk huruf kapital dimulai dari huruf A dengan codenya 65, dengan Z codenya 90\n",
        "    else:\n",
        "      key = 5 #untuk huruf konsonan akan digeser kekanan sebanyak 5\n",
        "      if k.islower() == True:\n",
        "        pesan1 += chr(((ord(k) - 97 + key)) % 26 + 97)\n",
        "      else:\n",
        "        pesan1 += chr(((ord(k) - 65 + key)) % 26 + 65)\n",
        "  return pesan1 #pesan1 adalah hasil enkripsi sesuai ketentuan dari pesan\n",
        "\n",
        "def label_pesan(pesan3): #definisi fungsi pelabelan setiap huruf pada pesan, untuk memudahkan proses enkripsi ke deskripsi\n",
        "  global label\n",
        "  label = {}\n",
        "  for k in pesan3:\n",
        "    if k in vocal:\n",
        "      label[k]=0 #0 untuk huruf vokal\n",
        "    else:\n",
        "      label[k]=1 #1 untuk huruf konsonan\n",
        "  return label\n",
        "\n",
        "def karakter(pesan): #fungsi untuk memeriksa apakah ada bilangan atau tidak\n",
        "  pesan_S = \"\"\n",
        "  for i in pesan:\n",
        "    if i != \" \" :\n",
        "      pesan_S += i\n",
        "    else:\n",
        "      continue\n",
        "  return all(i.isalpha() for i in pesan_S)\n",
        "\n",
        "#Proses deskripsi, menerjemahkan pesan yang telah disenkripsi\n",
        "def dekripsi1(teks_enkripsi):\n",
        "  K = [i for i in teks_enkripsi]\n",
        "  L = [i for i in x]\n",
        "  pesan2 = ''\n",
        "  for j in range(len(teks_enkripsi)):\n",
        "    if K[j] == ' ':\n",
        "      pesan2 += ' '\n",
        "    elif label[L[j]] == 0: #jika label dari suatu huruf bernilai 0, artinya asal hurufnya merupakan huruf vokal sehingga harus dikembalikan menjadi huruf vokal\n",
        "      key = 3 #menggeser sebanyak 3 ke kanan untuk huruf yang berasal dari huruf vokal\n",
        "      if K[j].islower() == True: \n",
        "        pesan2 += chr(((ord(K[j]) - 97 + key)) % 26 + 97) #pergeseran untuk huruf kecil\n",
        "      else:\n",
        "        pesan2 += chr(((ord(K[j]) - 65 + key)) % 26 + 65) #pergeseran untuk huruf kapital\n",
        "    else:\n",
        "      key = 5 #menggeser sebanyak 5 ke kiri untuk huruf yang berasal dari huruf vokal\n",
        "      if K[j].islower() == True:\n",
        "        pesan2 += chr(((ord(K[j]) - 97 - key)) % 26 + 97) #pergeseran untuk huruf kecil\n",
        "      else:\n",
        "        pesan2 += chr(((ord(K[j]) - 65 - key)) % 26 + 65) ##pergeseran untuk huruf kapital\n",
        "  return pesan2"
      ],
      "execution_count": 80,
      "outputs": []
    },
    {
      "cell_type": "code",
      "metadata": {
        "colab": {
          "base_uri": "https://localhost:8080/"
        },
        "id": "DgU_MvNo75aJ",
        "outputId": "b62e8ea7-fd0e-4999-98ca-fd927959d16b"
      },
      "source": [
        "vocal = ['a','i','u','e','o','A','I','U','E','O']\n",
        "main = False\n",
        "while main == False:\n",
        "  x = input('masukan pesan :')\n",
        "  if karakter(x) == False:\n",
        "    print('Error karena ada angka atau karakter lain') #jika didalam pesan yang diinput ada karakter selain alphabet, maka error ditanpilkan\n",
        "  else:\n",
        "    main = True\n",
        "    label_kata = label_pesan(x)\n",
        "    chaesar = enkripsi1(x)\n",
        "print(chaesar)"
      ],
      "execution_count": 91,
      "outputs": [
        {
          "output_type": "stream",
          "name": "stdout",
          "text": [
            "masukan pesan :Conrad should kill Rasputin to make Russia join the war\n",
            "Hlswxi xmlrqi pfqq Wxxuryfs yl rxpb Wrxxfx olfs ymb bxw\n"
          ]
        }
      ]
    },
    {
      "cell_type": "code",
      "source": [
        "dekripsi1(\"Hlswxi xmlrqi pfqq Wxxuryfs yl rxpb Wrxxfx olfs ymb bxw\")"
      ],
      "metadata": {
        "colab": {
          "base_uri": "https://localhost:8080/",
          "height": 35
        },
        "id": "jtusgAIQSPJX",
        "outputId": "2012eea7-6be1-46ac-bfd9-97fb14e8ba06"
      },
      "execution_count": 92,
      "outputs": [
        {
          "output_type": "execute_result",
          "data": {
            "application/vnd.google.colaboratory.intrinsic+json": {
              "type": "string"
            },
            "text/plain": [
              "'Conrad should kill Rasputin to make Russia join the war'"
            ]
          },
          "metadata": {},
          "execution_count": 92
        }
      ]
    },
    {
      "cell_type": "code",
      "source": [
        ""
      ],
      "metadata": {
        "id": "hwEPk9kdiCom"
      },
      "execution_count": null,
      "outputs": []
    }
  ]
}